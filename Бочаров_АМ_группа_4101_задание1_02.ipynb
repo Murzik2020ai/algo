{
  "nbformat": 4,
  "nbformat_minor": 0,
  "metadata": {
    "colab": {
      "name": "Бочаров АМ группа 4101 задание1_02.ipynb",
      "provenance": [],
      "collapsed_sections": []
    },
    "kernelspec": {
      "name": "python3",
      "display_name": "Python 3"
    },
    "language_info": {
      "name": "python"
    }
  },
  "cells": [
    {
      "cell_type": "code",
      "metadata": {
        "id": "1ga7Cqd49PqJ"
      },
      "source": [
        ""
      ],
      "execution_count": null,
      "outputs": []
    },
    {
      "cell_type": "markdown",
      "metadata": {
        "id": "8Runx1HX9bYF"
      },
      "source": [
        "Задание 1, Эмпирический анализ временной сложности алгоритмов\n",
        "Исп, Бочаров А.М.\n",
        "1.Генерация n-мерного вектора"
      ]
    },
    {
      "cell_type": "code",
      "metadata": {
        "id": "HYqh8a6f9RA_"
      },
      "source": [
        "import numpy as np\n",
        "import pandas as pd\n",
        "import time  #to measure time\n",
        "import random\n",
        "import seaborn as sns  #for plots"
      ],
      "execution_count": 1,
      "outputs": []
    },
    {
      "cell_type": "code",
      "metadata": {
        "colab": {
          "base_uri": "https://localhost:8080/"
        },
        "id": "3mpLRg79-nTZ",
        "outputId": "bd7dd053-378b-4c03-b827-6a3e8fc4c369"
      },
      "source": [
        "list_int = [i for i in range (2000)]  #list for circle\n",
        "list_time = []  #list with time correcponing list_int size of vector\n",
        "\n",
        "for i in list_int:\n",
        "  time_start = time.time()\n",
        "  for _ in range(5):  #generat 5 times\n",
        "    data = [100 for i in range(i)]\n",
        "  time_stop = time.time()\n",
        "  list_time.append((time_stop - time_start)/5)\n",
        "len(list_time)\n"
      ],
      "execution_count": 14,
      "outputs": [
        {
          "output_type": "execute_result",
          "data": {
            "text/plain": [
              "2000"
            ]
          },
          "metadata": {},
          "execution_count": 14
        }
      ]
    },
    {
      "cell_type": "code",
      "metadata": {
        "colab": {
          "base_uri": "https://localhost:8080/",
          "height": 363
        },
        "id": "ZI2MuRXIBzDo",
        "outputId": "8a299970-85af-48f8-f290-eb9c18462084"
      },
      "source": [
        "#create dataframe\n",
        "df = pd.DataFrame(list_int,\n",
        "                  columns=['size of vector'])\n",
        "df['time of vector building(const)'] = list_time\n",
        "df.head(10)"
      ],
      "execution_count": 15,
      "outputs": [
        {
          "output_type": "execute_result",
          "data": {
            "text/html": [
              "<div>\n",
              "<style scoped>\n",
              "    .dataframe tbody tr th:only-of-type {\n",
              "        vertical-align: middle;\n",
              "    }\n",
              "\n",
              "    .dataframe tbody tr th {\n",
              "        vertical-align: top;\n",
              "    }\n",
              "\n",
              "    .dataframe thead th {\n",
              "        text-align: right;\n",
              "    }\n",
              "</style>\n",
              "<table border=\"1\" class=\"dataframe\">\n",
              "  <thead>\n",
              "    <tr style=\"text-align: right;\">\n",
              "      <th></th>\n",
              "      <th>size of vector</th>\n",
              "      <th>time of vector building(const)</th>\n",
              "    </tr>\n",
              "  </thead>\n",
              "  <tbody>\n",
              "    <tr>\n",
              "      <th>0</th>\n",
              "      <td>0</td>\n",
              "      <td>0.000002</td>\n",
              "    </tr>\n",
              "    <tr>\n",
              "      <th>1</th>\n",
              "      <td>1</td>\n",
              "      <td>0.000001</td>\n",
              "    </tr>\n",
              "    <tr>\n",
              "      <th>2</th>\n",
              "      <td>2</td>\n",
              "      <td>0.000001</td>\n",
              "    </tr>\n",
              "    <tr>\n",
              "      <th>3</th>\n",
              "      <td>3</td>\n",
              "      <td>0.000001</td>\n",
              "    </tr>\n",
              "    <tr>\n",
              "      <th>4</th>\n",
              "      <td>4</td>\n",
              "      <td>0.000001</td>\n",
              "    </tr>\n",
              "    <tr>\n",
              "      <th>5</th>\n",
              "      <td>5</td>\n",
              "      <td>0.000001</td>\n",
              "    </tr>\n",
              "    <tr>\n",
              "      <th>6</th>\n",
              "      <td>6</td>\n",
              "      <td>0.000001</td>\n",
              "    </tr>\n",
              "    <tr>\n",
              "      <th>7</th>\n",
              "      <td>7</td>\n",
              "      <td>0.000001</td>\n",
              "    </tr>\n",
              "    <tr>\n",
              "      <th>8</th>\n",
              "      <td>8</td>\n",
              "      <td>0.000001</td>\n",
              "    </tr>\n",
              "    <tr>\n",
              "      <th>9</th>\n",
              "      <td>9</td>\n",
              "      <td>0.000001</td>\n",
              "    </tr>\n",
              "  </tbody>\n",
              "</table>\n",
              "</div>"
            ],
            "text/plain": [
              "   size of vector  time of vector building(const)\n",
              "0               0                        0.000002\n",
              "1               1                        0.000001\n",
              "2               2                        0.000001\n",
              "3               3                        0.000001\n",
              "4               4                        0.000001\n",
              "5               5                        0.000001\n",
              "6               6                        0.000001\n",
              "7               7                        0.000001\n",
              "8               8                        0.000001\n",
              "9               9                        0.000001"
            ]
          },
          "metadata": {},
          "execution_count": 15
        }
      ]
    },
    {
      "cell_type": "code",
      "metadata": {
        "colab": {
          "base_uri": "https://localhost:8080/",
          "height": 279
        },
        "id": "4NzJzDgk9RPZ",
        "outputId": "df9c37ae-981e-43cd-d318-3d73dffe19a9"
      },
      "source": [
        "plot = sns.scatterplot(data=df,x='size of vector',y='time of vector building(const)')\n",
        "fig = plot.get_figure()\n",
        "fig.savefig('const_v_1.png')\n",
        "fig.show()\n",
        "#sns.scatterplot(data=df,x='size of vector',y='time of vector building(const)')\n"
      ],
      "execution_count": 16,
      "outputs": [
        {
          "output_type": "display_data",
          "data": {
            "image/png": "[encoded data removed]",
            "text/plain": [
              "<Figure size 432x288 with 1 Axes>"
            ]
          },
          "metadata": {
            "needs_background": "light"
          }
        }
      ]
    },
    {
      "cell_type": "code",
      "metadata": {
        "colab": {
          "base_uri": "https://localhost:8080/"
        },
        "id": "tjHfj7Sg6QRU",
        "outputId": "866b3363-e8d1-47b2-d541-74fe9acbf3a9"
      },
      "source": [
        "!ls"
      ],
      "execution_count": 17,
      "outputs": [
        {
          "output_type": "stream",
          "name": "stdout",
          "text": [
            "const_v_1.png  const_v.png  sample_data\n"
          ]
        }
      ]
    },
    {
      "cell_type": "code",
      "metadata": {
        "colab": {
          "base_uri": "https://localhost:8080/",
          "height": 17
        },
        "id": "zbgGCvil6Tu-",
        "outputId": "f41a120c-7f37-4911-ad02-72a6d28ee6f5"
      },
      "source": [
        "from google.colab import files\n",
        "\n",
        "files.download('const_v_1.png')"
      ],
      "execution_count": 19,
      "outputs": [
        {
          "output_type": "display_data",
          "data": {
            "application/javascript": [
              "\n",
              "    async function download(id, filename, size) {\n",
              "      if (!google.colab.kernel.accessAllowed) {\n",
              "        return;\n",
              "      }\n",
              "      const div = document.createElement('div');\n",
              "      const label = document.createElement('label');\n",
              "      label.textContent = `Downloading \"${filename}\": `;\n",
              "      div.appendChild(label);\n",
              "      const progress = document.createElement('progress');\n",
              "      progress.max = size;\n",
              "      div.appendChild(progress);\n",
              "      document.body.appendChild(div);\n",
              "\n",
              "      const buffers = [];\n",
              "      let downloaded = 0;\n",
              "\n",
              "      const channel = await google.colab.kernel.comms.open(id);\n",
              "      // Send a message to notify the kernel that we're ready.\n",
              "      channel.send({})\n",
              "\n",
              "      for await (const message of channel.messages) {\n",
              "        // Send a message to notify the kernel that we're ready.\n",
              "        channel.send({})\n",
              "        if (message.buffers) {\n",
              "          for (const buffer of message.buffers) {\n",
              "            buffers.push(buffer);\n",
              "            downloaded += buffer.byteLength;\n",
              "            progress.value = downloaded;\n",
              "          }\n",
              "        }\n",
              "      }\n",
              "      const blob = new Blob(buffers, {type: 'application/binary'});\n",
              "      const a = document.createElement('a');\n",
              "      a.href = window.URL.createObjectURL(blob);\n",
              "      a.download = filename;\n",
              "      div.appendChild(a);\n",
              "      a.click();\n",
              "      div.remove();\n",
              "    }\n",
              "  "
            ],
            "text/plain": [
              "<IPython.core.display.Javascript object>"
            ]
          },
          "metadata": {}
        },
        {
          "output_type": "display_data",
          "data": {
            "application/javascript": [
              "download(\"download_ebcf66ab-28d9-4fde-926f-c4cb9679fb11\", \"const_v_1.png\", 25307)"
            ],
            "text/plain": [
              "<IPython.core.display.Javascript object>"
            ]
          },
          "metadata": {}
        }
      ]
    },
    {
      "cell_type": "markdown",
      "metadata": {
        "id": "9wUOOTuHfUtj"
      },
      "source": [
        "Зависимость похожа на линейную, что согласуется с теорией"
      ]
    },
    {
      "cell_type": "code",
      "metadata": {
        "id": "DZqucmrV9Rb4",
        "colab": {
          "base_uri": "https://localhost:8080/"
        },
        "outputId": "37f71720-612c-49e4-df97-96f7602c972c"
      },
      "source": [
        "#sum of elements\n",
        "list_time_square = []  #list with time correcponing list_int size of vector\n",
        "\n",
        "for i in list_int:\n",
        "  time_start = time.time()\n",
        "  for _ in range(5):  #generat 5 times\n",
        "    data = [(lambda i: i)(i) for i in range(i)]\n",
        "    for k in range(i):\n",
        "      data[k] = sum(data[0:k])\n",
        "  \n",
        "  time_stop = time.time()\n",
        "  list_time_square.append((time_stop - time_start)/5)\n",
        "len(list_time_square)"
      ],
      "execution_count": 21,
      "outputs": [
        {
          "output_type": "execute_result",
          "data": {
            "text/plain": [
              "2000"
            ]
          },
          "metadata": {},
          "execution_count": 21
        }
      ]
    },
    {
      "cell_type": "code",
      "metadata": {
        "colab": {
          "base_uri": "https://localhost:8080/",
          "height": 279
        },
        "id": "FLImaDYyxSWu",
        "outputId": "b8d53208-984e-4190-936a-c3392fd77cae"
      },
      "source": [
        "df['time of vector building(square)'] = list_time_square\n",
        "plot = sns.scatterplot(data=df,x='size of vector',y='time of vector building(square)')\n",
        "fig = plot.get_figure()\n",
        "fig.savefig('square_v_1.png')\n",
        "fig.show()"
      ],
      "execution_count": 23,
      "outputs": [
        {
          "output_type": "display_data",
          "data": {
            "image/png": "[encoded data removed]",
            "text/plain": [
              "<Figure size 432x288 with 1 Axes>"
            ]
          },
          "metadata": {
            "needs_background": "light"
          }
        }
      ]
    },
    {
      "cell_type": "code",
      "metadata": {
        "colab": {
          "base_uri": "https://localhost:8080/"
        },
        "id": "yylGdwou8MD1",
        "outputId": "b35d10d4-71fc-4f5e-e100-cd315127971a"
      },
      "source": [
        "!ls"
      ],
      "execution_count": 24,
      "outputs": [
        {
          "output_type": "stream",
          "name": "stdout",
          "text": [
            "const_v_1.png  const_v.png  sample_data  square_v_1.png\n"
          ]
        }
      ]
    },
    {
      "cell_type": "code",
      "metadata": {
        "colab": {
          "base_uri": "https://localhost:8080/",
          "height": 17
        },
        "id": "pQHgn3ZH8TXW",
        "outputId": "ab8fdbb4-96ef-4b51-cc6a-30c646937925"
      },
      "source": [
        "from google.colab import files\n",
        "\n",
        "files.download('square_v_1.png')"
      ],
      "execution_count": 25,
      "outputs": [
        {
          "output_type": "display_data",
          "data": {
            "application/javascript": [
              "\n",
              "    async function download(id, filename, size) {\n",
              "      if (!google.colab.kernel.accessAllowed) {\n",
              "        return;\n",
              "      }\n",
              "      const div = document.createElement('div');\n",
              "      const label = document.createElement('label');\n",
              "      label.textContent = `Downloading \"${filename}\": `;\n",
              "      div.appendChild(label);\n",
              "      const progress = document.createElement('progress');\n",
              "      progress.max = size;\n",
              "      div.appendChild(progress);\n",
              "      document.body.appendChild(div);\n",
              "\n",
              "      const buffers = [];\n",
              "      let downloaded = 0;\n",
              "\n",
              "      const channel = await google.colab.kernel.comms.open(id);\n",
              "      // Send a message to notify the kernel that we're ready.\n",
              "      channel.send({})\n",
              "\n",
              "      for await (const message of channel.messages) {\n",
              "        // Send a message to notify the kernel that we're ready.\n",
              "        channel.send({})\n",
              "        if (message.buffers) {\n",
              "          for (const buffer of message.buffers) {\n",
              "            buffers.push(buffer);\n",
              "            downloaded += buffer.byteLength;\n",
              "            progress.value = downloaded;\n",
              "          }\n",
              "        }\n",
              "      }\n",
              "      const blob = new Blob(buffers, {type: 'application/binary'});\n",
              "      const a = document.createElement('a');\n",
              "      a.href = window.URL.createObjectURL(blob);\n",
              "      a.download = filename;\n",
              "      div.appendChild(a);\n",
              "      a.click();\n",
              "      div.remove();\n",
              "    }\n",
              "  "
            ],
            "text/plain": [
              "<IPython.core.display.Javascript object>"
            ]
          },
          "metadata": {}
        },
        {
          "output_type": "display_data",
          "data": {
            "application/javascript": [
              "download(\"download_7800aa51-2607-4a31-99fd-a8fb3fc848cd\", \"square_v_1.png\", 25822)"
            ],
            "text/plain": [
              "<IPython.core.display.Javascript object>"
            ]
          },
          "metadata": {}
        }
      ]
    },
    {
      "cell_type": "markdown",
      "metadata": {
        "id": "6L07YRce0_-j"
      },
      "source": [
        "Зависимость похожа на квадратичную, что согласуется с теорией"
      ]
    },
    {
      "cell_type": "code",
      "metadata": {
        "colab": {
          "base_uri": "https://localhost:8080/"
        },
        "id": "a2DHEliYxoEC",
        "outputId": "fc83e578-accc-4dfb-bf4e-789ec1f404bd"
      },
      "source": [
        "#mult of elements\n",
        "list_time_mult = []  #list with time correcponing list_int size of vector\n",
        "\n",
        "for i in list_int:\n",
        "  time_start = time.time()\n",
        "  for _ in range(5):  #generat 5 times\n",
        "    #data = [(lambda i: i)(i) for i in range(i)]\n",
        "    data = [(lambda i: random.randint(1,10))(i) for i in range(i)]\n",
        "    for k in range(i):\n",
        "      mult = 1\n",
        "      for m in range(k):\n",
        "        mult *=data[m]\n",
        "      data[k] = mult\n",
        "  \n",
        "  time_stop = time.time()\n",
        "  list_time_mult.append((time_stop - time_start)/5)\n",
        "len(list_time_mult)"
      ],
      "execution_count": 27,
      "outputs": [
        {
          "output_type": "execute_result",
          "data": {
            "text/plain": [
              "2000"
            ]
          },
          "metadata": {},
          "execution_count": 27
        }
      ]
    },
    {
      "cell_type": "code",
      "metadata": {
        "colab": {
          "base_uri": "https://localhost:8080/",
          "height": 279
        },
        "id": "tshJ1lLdxbzo",
        "outputId": "4f4bb246-8408-454a-8320-b4e6dd587f5f"
      },
      "source": [
        "df['time of vector building(mult)'] = list_time_mult\n",
        "plot = sns.scatterplot(data=df,x='size of vector',y='time of vector building(mult)')\n",
        "fig = plot.get_figure()\n",
        "fig.savefig('mult_v_1.png')\n",
        "fig.show()"
      ],
      "execution_count": 28,
      "outputs": [
        {
          "output_type": "display_data",
          "data": {
            "image/png": "[encoded data removed]",
            "text/plain": [
              "<Figure size 432x288 with 1 Axes>"
            ]
          },
          "metadata": {
            "needs_background": "light"
          }
        }
      ]
    },
    {
      "cell_type": "code",
      "metadata": {
        "colab": {
          "base_uri": "https://localhost:8080/",
          "height": 17
        },
        "id": "wzRKp9KmFVsg",
        "outputId": "5afeaec2-2318-4cac-9c02-c93e3e715d15"
      },
      "source": [
        "from google.colab import files\n",
        "\n",
        "files.download('mult_v_1.png')"
      ],
      "execution_count": 29,
      "outputs": [
        {
          "output_type": "display_data",
          "data": {
            "application/javascript": [
              "\n",
              "    async function download(id, filename, size) {\n",
              "      if (!google.colab.kernel.accessAllowed) {\n",
              "        return;\n",
              "      }\n",
              "      const div = document.createElement('div');\n",
              "      const label = document.createElement('label');\n",
              "      label.textContent = `Downloading \"${filename}\": `;\n",
              "      div.appendChild(label);\n",
              "      const progress = document.createElement('progress');\n",
              "      progress.max = size;\n",
              "      div.appendChild(progress);\n",
              "      document.body.appendChild(div);\n",
              "\n",
              "      const buffers = [];\n",
              "      let downloaded = 0;\n",
              "\n",
              "      const channel = await google.colab.kernel.comms.open(id);\n",
              "      // Send a message to notify the kernel that we're ready.\n",
              "      channel.send({})\n",
              "\n",
              "      for await (const message of channel.messages) {\n",
              "        // Send a message to notify the kernel that we're ready.\n",
              "        channel.send({})\n",
              "        if (message.buffers) {\n",
              "          for (const buffer of message.buffers) {\n",
              "            buffers.push(buffer);\n",
              "            downloaded += buffer.byteLength;\n",
              "            progress.value = downloaded;\n",
              "          }\n",
              "        }\n",
              "      }\n",
              "      const blob = new Blob(buffers, {type: 'application/binary'});\n",
              "      const a = document.createElement('a');\n",
              "      a.href = window.URL.createObjectURL(blob);\n",
              "      a.download = filename;\n",
              "      div.appendChild(a);\n",
              "      a.click();\n",
              "      div.remove();\n",
              "    }\n",
              "  "
            ],
            "text/plain": [
              "<IPython.core.display.Javascript object>"
            ]
          },
          "metadata": {}
        },
        {
          "output_type": "display_data",
          "data": {
            "application/javascript": [
              "download(\"download_c4fec611-7ed6-496b-adcd-64750da6c4a6\", \"mult_v_1.png\", 21659)"
            ],
            "text/plain": [
              "<IPython.core.display.Javascript object>"
            ]
          },
          "metadata": {}
        }
      ]
    },
    {
      "cell_type": "markdown",
      "metadata": {
        "id": "meGgGyMs531Y"
      },
      "source": [
        "Зависимость похожа на квадратичную, что согласуется с теорией"
      ]
    },
    {
      "cell_type": "markdown",
      "metadata": {
        "id": "_WQWIM8C7FYx"
      },
      "source": [
        "Положим, что list_int содержит коэффициенты многочлена и вычислим значение Р(1,5) путем прямого вычисления"
      ]
    },
    {
      "cell_type": "code",
      "metadata": {
        "colab": {
          "base_uri": "https://localhost:8080/"
        },
        "id": "t3xNaKhbxKsj",
        "outputId": "9be4fe95-f79e-4ff6-f17d-4f766f294a43"
      },
      "source": [
        "x = 100\n",
        "data = [(lambda i: random.randint(1,10))(i) for i in range(2000)]\n",
        "\n",
        "time_start = time.time()\n",
        "for i in range(5):\n",
        "  summa = 0  #for result\n",
        "  for j in range(2000):\n",
        "    summa +=data[j]*(x**j)\n",
        "time_stop = time.time()\n",
        "print('время прямого вычисления = {:.7f}'.format((time_stop-time_start)/5))"
      ],
      "execution_count": 32,
      "outputs": [
        {
          "output_type": "stream",
          "name": "stdout",
          "text": [
            "время прямого вычисления = 0.0351040\n"
          ]
        }
      ]
    },
    {
      "cell_type": "code",
      "metadata": {
        "id": "yx2Ync0sff-z",
        "colab": {
          "base_uri": "https://localhost:8080/"
        },
        "outputId": "1b7f448b-4da7-4a52-ee82-a8e7c02cd1b1"
      },
      "source": [
        "x = 100\n",
        "\n",
        "time_start = time.time()\n",
        "for _ in range(5):\n",
        "  summa = data[1999]\n",
        "  for i in range(1998,-1,-1):\n",
        "    \n",
        "    summa =  data[i-1] + x * summa\n",
        "time_stop = time.time()\n",
        "print('время вычисления по схеме Горнера = {:.7f}'.format((time_stop-time_start)/5))"
      ],
      "execution_count": 33,
      "outputs": [
        {
          "output_type": "stream",
          "name": "stdout",
          "text": [
            "время вычисления по схеме Горнера = 0.0015918\n"
          ]
        }
      ]
    },
    {
      "cell_type": "markdown",
      "metadata": {
        "id": "03eM5l_I_tsJ"
      },
      "source": [
        "По полученным вычислениям схема Горнера медленнее, но по идее она должна быть быстрее. так как в ней нет дорогой операции возведения в степень. Это скорее всего связано с тем. что в Питоне очень медленные циклы."
      ]
    },
    {
      "cell_type": "code",
      "metadata": {
        "id": "xiDn65pKfgNK",
        "colab": {
          "base_uri": "https://localhost:8080/"
        },
        "outputId": "3d8f4d32-aaa0-45f5-a807-59ec9116d59f"
      },
      "source": [
        "#сортировка пузырьком\n",
        "list_time_bubble = []  #list with time correcponing list_int size of vector\n",
        "\n",
        "for i in list_int:\n",
        "  time_start = time.time()\n",
        "  for _ in range(5):  #generat 5 times\n",
        "    #data = [(lambda i: i)(i) for i in range(i)]\n",
        "    a = []\n",
        "    for m in range(i):  #generate random list\n",
        "      a.append(random.randint(1, 100))\n",
        " \n",
        "    for k in range(i-1):\n",
        "      for l in range(i-k-1):\n",
        "          if a[l] > a[l+1]:\n",
        "              a[l], a[l+1] = a[l+1], a[l]\n",
        "     \n",
        "  time_stop = time.time()\n",
        "  list_time_bubble.append((time_stop - time_start)/5)\n",
        "len(list_time_bubble)\n",
        "\n",
        " \n"
      ],
      "execution_count": 34,
      "outputs": [
        {
          "output_type": "execute_result",
          "data": {
            "text/plain": [
              "2000"
            ]
          },
          "metadata": {},
          "execution_count": 34
        }
      ]
    },
    {
      "cell_type": "code",
      "metadata": {
        "colab": {
          "base_uri": "https://localhost:8080/",
          "height": 280
        },
        "id": "iFbpvFnrAEdh",
        "outputId": "5d05a386-d90f-4cef-aad6-99fb22068ce0"
      },
      "source": [
        "df['time of bubble sort'] = list_time_bubble\n",
        "plot = sns.scatterplot(data=df,x='size of vector',y='time of bubble sort')\n",
        "\n",
        "fig = plot.get_figure()\n",
        "fig.savefig('bubble_v_1.png')\n",
        "fig.show()"
      ],
      "execution_count": 35,
      "outputs": [
        {
          "output_type": "display_data",
          "data": {
            "image/png": "[encoded data removed]",
            "text/plain": [
              "<Figure size 432x288 with 1 Axes>"
            ]
          },
          "metadata": {
            "needs_background": "light"
          }
        }
      ]
    },
    {
      "cell_type": "code",
      "metadata": {
        "colab": {
          "base_uri": "https://localhost:8080/",
          "height": 17
        },
        "id": "JGCmbSVkSx2P",
        "outputId": "f3167bdc-8e11-45b7-93f6-872df9d51dce"
      },
      "source": [
        "from google.colab import files\n",
        "\n",
        "files.download('bubble_v_1.png')"
      ],
      "execution_count": 36,
      "outputs": [
        {
          "output_type": "display_data",
          "data": {
            "application/javascript": [
              "\n",
              "    async function download(id, filename, size) {\n",
              "      if (!google.colab.kernel.accessAllowed) {\n",
              "        return;\n",
              "      }\n",
              "      const div = document.createElement('div');\n",
              "      const label = document.createElement('label');\n",
              "      label.textContent = `Downloading \"${filename}\": `;\n",
              "      div.appendChild(label);\n",
              "      const progress = document.createElement('progress');\n",
              "      progress.max = size;\n",
              "      div.appendChild(progress);\n",
              "      document.body.appendChild(div);\n",
              "\n",
              "      const buffers = [];\n",
              "      let downloaded = 0;\n",
              "\n",
              "      const channel = await google.colab.kernel.comms.open(id);\n",
              "      // Send a message to notify the kernel that we're ready.\n",
              "      channel.send({})\n",
              "\n",
              "      for await (const message of channel.messages) {\n",
              "        // Send a message to notify the kernel that we're ready.\n",
              "        channel.send({})\n",
              "        if (message.buffers) {\n",
              "          for (const buffer of message.buffers) {\n",
              "            buffers.push(buffer);\n",
              "            downloaded += buffer.byteLength;\n",
              "            progress.value = downloaded;\n",
              "          }\n",
              "        }\n",
              "      }\n",
              "      const blob = new Blob(buffers, {type: 'application/binary'});\n",
              "      const a = document.createElement('a');\n",
              "      a.href = window.URL.createObjectURL(blob);\n",
              "      a.download = filename;\n",
              "      div.appendChild(a);\n",
              "      a.click();\n",
              "      div.remove();\n",
              "    }\n",
              "  "
            ],
            "text/plain": [
              "<IPython.core.display.Javascript object>"
            ]
          },
          "metadata": {}
        },
        {
          "output_type": "display_data",
          "data": {
            "application/javascript": [
              "download(\"download_0827abba-24ff-483e-a22c-3cdc71b0b3e6\", \"bubble_v_1.png\", 20794)"
            ],
            "text/plain": [
              "<IPython.core.display.Javascript object>"
            ]
          },
          "metadata": {}
        }
      ]
    },
    {
      "cell_type": "markdown",
      "metadata": {
        "id": "_auUCEQpaNWq"
      },
      "source": [
        "Зависимость похожа на квадратичную, что согласуется с теорией"
      ]
    },
    {
      "cell_type": "code",
      "metadata": {
        "id": "5CtaC-lmAEry"
      },
      "source": [
        ""
      ],
      "execution_count": null,
      "outputs": []
    },
    {
      "cell_type": "code",
      "metadata": {
        "id": "m-5sfu08AE5o"
      },
      "source": [
        "def quicksort(nums):\n",
        "   if len(nums) <= 1:\n",
        "       return nums\n",
        "   else:\n",
        "       q = random.choice(nums)\n",
        "       s_nums = []\n",
        "       m_nums = []\n",
        "       e_nums = []\n",
        "       for n in nums:\n",
        "           if n < q:\n",
        "               s_nums.append(n)\n",
        "           elif n > q:\n",
        "               m_nums.append(n)\n",
        "           else:\n",
        "               e_nums.append(n)\n",
        "       return quicksort(s_nums) + e_nums + quicksort(m_nums)"
      ],
      "execution_count": 37,
      "outputs": []
    },
    {
      "cell_type": "code",
      "metadata": {
        "colab": {
          "base_uri": "https://localhost:8080/"
        },
        "id": "toYLX39vabpx",
        "outputId": "a017c206-119f-44fe-bdcf-5fa4ae948100"
      },
      "source": [
        "#быстрая сортировка\n",
        "list_time_quick = []  #list with time correcponing list_int size of vector\n",
        "\n",
        "for i in list_int:\n",
        "  time_start = time.time()\n",
        "  for _ in range(5):  #generat 5 times\n",
        "    data = [(lambda i: random.randint(1,10))(i) for i in range(2000)]\n",
        "    quicksort(data)\n",
        "     \n",
        "  time_stop = time.time()\n",
        "  list_time_quick.append((time_stop - time_start)/5)\n",
        "len(list_time_quick)"
      ],
      "execution_count": 38,
      "outputs": [
        {
          "output_type": "execute_result",
          "data": {
            "text/plain": [
              "2000"
            ]
          },
          "metadata": {},
          "execution_count": 38
        }
      ]
    },
    {
      "cell_type": "code",
      "metadata": {
        "colab": {
          "base_uri": "https://localhost:8080/",
          "height": 279
        },
        "id": "5gr33GFqab-I",
        "outputId": "565b897e-9ed0-426a-f493-24a10330dee6"
      },
      "source": [
        "df['time of quicksort'] = list_time_quick\n",
        "plot = sns.scatterplot(data=df,x='size of vector',y='time of quicksort')\n",
        "fig = plot.get_figure()\n",
        "fig.savefig('quick_v_1.png')\n",
        "fig.show()"
      ],
      "execution_count": 39,
      "outputs": [
        {
          "output_type": "display_data",
          "data": {
            "image/png": "[encoded data removed]",
            "text/plain": [
              "<Figure size 432x288 with 1 Axes>"
            ]
          },
          "metadata": {
            "needs_background": "light"
          }
        }
      ]
    },
    {
      "cell_type": "code",
      "metadata": {
        "colab": {
          "base_uri": "https://localhost:8080/",
          "height": 17
        },
        "id": "f309rnByV0hD",
        "outputId": "148626aa-749c-4e05-e626-14f0e378013c"
      },
      "source": [
        "from google.colab import files\n",
        "\n",
        "files.download('quick_v_1.png')"
      ],
      "execution_count": 40,
      "outputs": [
        {
          "output_type": "display_data",
          "data": {
            "application/javascript": [
              "\n",
              "    async function download(id, filename, size) {\n",
              "      if (!google.colab.kernel.accessAllowed) {\n",
              "        return;\n",
              "      }\n",
              "      const div = document.createElement('div');\n",
              "      const label = document.createElement('label');\n",
              "      label.textContent = `Downloading \"${filename}\": `;\n",
              "      div.appendChild(label);\n",
              "      const progress = document.createElement('progress');\n",
              "      progress.max = size;\n",
              "      div.appendChild(progress);\n",
              "      document.body.appendChild(div);\n",
              "\n",
              "      const buffers = [];\n",
              "      let downloaded = 0;\n",
              "\n",
              "      const channel = await google.colab.kernel.comms.open(id);\n",
              "      // Send a message to notify the kernel that we're ready.\n",
              "      channel.send({})\n",
              "\n",
              "      for await (const message of channel.messages) {\n",
              "        // Send a message to notify the kernel that we're ready.\n",
              "        channel.send({})\n",
              "        if (message.buffers) {\n",
              "          for (const buffer of message.buffers) {\n",
              "            buffers.push(buffer);\n",
              "            downloaded += buffer.byteLength;\n",
              "            progress.value = downloaded;\n",
              "          }\n",
              "        }\n",
              "      }\n",
              "      const blob = new Blob(buffers, {type: 'application/binary'});\n",
              "      const a = document.createElement('a');\n",
              "      a.href = window.URL.createObjectURL(blob);\n",
              "      a.download = filename;\n",
              "      div.appendChild(a);\n",
              "      a.click();\n",
              "      div.remove();\n",
              "    }\n",
              "  "
            ],
            "text/plain": [
              "<IPython.core.display.Javascript object>"
            ]
          },
          "metadata": {}
        },
        {
          "output_type": "display_data",
          "data": {
            "application/javascript": [
              "download(\"download_421b43c1-cd4b-4fa0-bbd8-c3cb251dad1d\", \"quick_v_1.png\", 32062)"
            ],
            "text/plain": [
              "<IPython.core.display.Javascript object>"
            ]
          },
          "metadata": {}
        }
      ]
    },
    {
      "cell_type": "code",
      "metadata": {
        "colab": {
          "base_uri": "https://localhost:8080/"
        },
        "id": "qV-Pw1NkbDPV",
        "outputId": "56283cb7-1aa8-489d-ea8b-fb43e5e13ea0"
      },
      "source": [
        "#сортировка timsort\n",
        "list_time_tim = []  #list with time correcponing list_int size of vector\n",
        "\n",
        "for i in list_int:\n",
        "  time_start = time.time()\n",
        "  for _ in range(5):  #generat 5 times\n",
        "    data = [(lambda j: random.randint(1,100))(j) for j in range(i)]\n",
        " \n",
        "    data.sort()  #standart realisation the quickest sorting\n",
        "     \n",
        "  time_stop = time.time()\n",
        "  list_time_tim.append((time_stop - time_start)/5)\n",
        "len(list_time_tim)"
      ],
      "execution_count": 43,
      "outputs": [
        {
          "output_type": "execute_result",
          "data": {
            "text/plain": [
              "2000"
            ]
          },
          "metadata": {},
          "execution_count": 43
        }
      ]
    },
    {
      "cell_type": "code",
      "metadata": {
        "colab": {
          "base_uri": "https://localhost:8080/",
          "height": 279
        },
        "id": "ZldppT9hcxeJ",
        "outputId": "23cb204c-8ad1-48b5-f000-cd00c0375142"
      },
      "source": [
        "df['time of timsort'] = list_time_tim\n",
        "plot = sns.scatterplot(data=df,x='size of vector',y='time of timsort')\n",
        "fig = plot.get_figure()\n",
        "fig.savefig('tim_v_1.png')\n",
        "fig.show()"
      ],
      "execution_count": 44,
      "outputs": [
        {
          "output_type": "display_data",
          "data": {
            "image/png": "[encoded data removed]",
            "text/plain": [
              "<Figure size 432x288 with 1 Axes>"
            ]
          },
          "metadata": {
            "needs_background": "light"
          }
        }
      ]
    },
    {
      "cell_type": "code",
      "metadata": {
        "colab": {
          "base_uri": "https://localhost:8080/",
          "height": 17
        },
        "id": "F3aPrujRXZQb",
        "outputId": "3592d6b6-c622-44ee-d221-05d998868083"
      },
      "source": [
        "from google.colab import files\n",
        "\n",
        "files.download('tim_v_1.png')"
      ],
      "execution_count": 45,
      "outputs": [
        {
          "output_type": "display_data",
          "data": {
            "application/javascript": [
              "\n",
              "    async function download(id, filename, size) {\n",
              "      if (!google.colab.kernel.accessAllowed) {\n",
              "        return;\n",
              "      }\n",
              "      const div = document.createElement('div');\n",
              "      const label = document.createElement('label');\n",
              "      label.textContent = `Downloading \"${filename}\": `;\n",
              "      div.appendChild(label);\n",
              "      const progress = document.createElement('progress');\n",
              "      progress.max = size;\n",
              "      div.appendChild(progress);\n",
              "      document.body.appendChild(div);\n",
              "\n",
              "      const buffers = [];\n",
              "      let downloaded = 0;\n",
              "\n",
              "      const channel = await google.colab.kernel.comms.open(id);\n",
              "      // Send a message to notify the kernel that we're ready.\n",
              "      channel.send({})\n",
              "\n",
              "      for await (const message of channel.messages) {\n",
              "        // Send a message to notify the kernel that we're ready.\n",
              "        channel.send({})\n",
              "        if (message.buffers) {\n",
              "          for (const buffer of message.buffers) {\n",
              "            buffers.push(buffer);\n",
              "            downloaded += buffer.byteLength;\n",
              "            progress.value = downloaded;\n",
              "          }\n",
              "        }\n",
              "      }\n",
              "      const blob = new Blob(buffers, {type: 'application/binary'});\n",
              "      const a = document.createElement('a');\n",
              "      a.href = window.URL.createObjectURL(blob);\n",
              "      a.download = filename;\n",
              "      div.appendChild(a);\n",
              "      a.click();\n",
              "      div.remove();\n",
              "    }\n",
              "  "
            ],
            "text/plain": [
              "<IPython.core.display.Javascript object>"
            ]
          },
          "metadata": {}
        },
        {
          "output_type": "display_data",
          "data": {
            "application/javascript": [
              "download(\"download_1b8f832d-304f-4039-b30f-d2fbfa26cd35\", \"tim_v_1.png\", 25972)"
            ],
            "text/plain": [
              "<IPython.core.display.Javascript object>"
            ]
          },
          "metadata": {}
        }
      ]
    },
    {
      "cell_type": "markdown",
      "metadata": {
        "id": "d-OscwV1dFv8"
      },
      "source": [
        "timsort самая быстрая сортировка"
      ]
    },
    {
      "cell_type": "code",
      "metadata": {
        "colab": {
          "base_uri": "https://localhost:8080/"
        },
        "id": "4OlWYrdocbqx",
        "outputId": "382415c3-2bcb-467d-98d2-8bba0a60d156"
      },
      "source": [
        "#2. Создание матриц и их умножение\n",
        "N = 1000   #size of square matrix\n",
        "m = [random.randint(1,12) for i in range(N*N)]\n",
        "m = np.array(m).reshape(N,N)\n",
        "print('Matrix is:\\n', m)"
      ],
      "execution_count": 46,
      "outputs": [
        {
          "output_type": "stream",
          "name": "stdout",
          "text": [
            "Matrix is:\n",
            " [[12  3  5 ... 10 10  4]\n",
            " [11  7  3 ...  3  8 11]\n",
            " [ 4  2  7 ... 11  1 12]\n",
            " ...\n",
            " [ 8  6  3 ... 12 10  8]\n",
            " [ 5  3  6 ...  7  5  8]\n",
            " [ 8  5  3 ... 12 12 11]]\n"
          ]
        }
      ]
    },
    {
      "cell_type": "code",
      "metadata": {
        "colab": {
          "base_uri": "https://localhost:8080/"
        },
        "id": "ZOhXW9nVeY49",
        "outputId": "02e395c6-9f77-4469-b097-1bf8e6130d08"
      },
      "source": [
        "m2 = [random.randint(1,12) for i in range(N*N)]\n",
        "m2 = np.array(m).reshape(N,N)\n",
        "print('Matrix is:\\n', m2)\n",
        "matrix = m.dot(m2)\n",
        "print('Matrix is:\\n', matrix)"
      ],
      "execution_count": 47,
      "outputs": [
        {
          "output_type": "stream",
          "name": "stdout",
          "text": [
            "Matrix is:\n",
            " [[12  3  5 ... 10 10  4]\n",
            " [11  7  3 ...  3  8 11]\n",
            " [ 4  2  7 ... 11  1 12]\n",
            " ...\n",
            " [ 8  6  3 ... 12 10  8]\n",
            " [ 5  3  6 ...  7  5  8]\n",
            " [ 8  5  3 ... 12 12 11]]\n",
            "Matrix is:\n",
            " [[42961 43550 41491 ... 43013 39543 43191]\n",
            " [43582 44505 42360 ... 43094 40291 43632]\n",
            " [42288 42958 41292 ... 42041 39658 42852]\n",
            " ...\n",
            " [43361 44692 41745 ... 43596 40982 43399]\n",
            " [43453 43309 41715 ... 42759 41136 43447]\n",
            " [42881 44175 42001 ... 42693 40308 43164]]\n"
          ]
        }
      ]
    },
    {
      "cell_type": "markdown",
      "metadata": {
        "id": "4aFo6hUXf_an"
      },
      "source": [
        "3. При реализации алгориммов в данном ноутбуке чаще всего использовалась структура данных - изменяемый массив list он очень удобен для представления данных в виде некоторого списка, элементы которого можно изменять и модифицировать\n",
        "исп Бочаров АМ skype bam271074 группа 4101\n",
        "исходный код есть на гитхабе\n",
        "https://github.com/Murzik2020ai/algo\n",
        " "
      ]
    },
    {
      "cell_type": "code",
      "metadata": {
        "id": "IbBfkPhocb8o"
      },
      "source": [
        ""
      ],
      "execution_count": null,
      "outputs": []
    }
  ]
}