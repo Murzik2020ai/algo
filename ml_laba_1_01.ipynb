{
  "nbformat": 4,
  "nbformat_minor": 0,
  "metadata": {
    "colab": {
      "name": "ml_laba_1_01.ipynb",
      "provenance": []
    },
    "kernelspec": {
      "name": "python3",
      "display_name": "Python 3"
    },
    "language_info": {
      "name": "python"
    }
  },
  "cells": [
    {
      "cell_type": "code",
      "metadata": {
        "id": "X4Cppt1N9Mgl"
      },
      "source": [
        ""
      ],
      "execution_count": null,
      "outputs": []
    },
    {
      "cell_type": "code",
      "metadata": {
        "id": "pAmFlkqQ9c3a"
      },
      "source": [
        "import numpy as np\n",
        "import pandas as pd\n",
        "import time  #to measure time\n",
        "import random\n",
        "import seaborn as sns  #for plots"
      ],
      "execution_count": 1,
      "outputs": []
    },
    {
      "cell_type": "code",
      "metadata": {
        "colab": {
          "base_uri": "https://localhost:8080/"
        },
        "id": "AfmQJgbs-IMR",
        "outputId": "900c88b1-94d7-49d1-a656-b9d031adbb7d"
      },
      "source": [
        "# подключаем гугл диск на котором данные\n",
        "from google.colab import drive\n",
        "drive.mount ('/content/gdrive', force_remount = True)"
      ],
      "execution_count": 2,
      "outputs": [
        {
          "output_type": "stream",
          "name": "stdout",
          "text": [
            "Mounted at /content/gdrive\n"
          ]
        }
      ]
    },
    {
      "cell_type": "code",
      "metadata": {
        "colab": {
          "base_uri": "https://localhost:8080/"
        },
        "id": "vqixb06P_Lwb",
        "outputId": "25ae60bc-711d-4c0f-fade-87380ab5f294"
      },
      "source": [
        "!ls /content/gdrive/'My Drive'/raifhack/data"
      ],
      "execution_count": 4,
      "outputs": [
        {
          "output_type": "stream",
          "name": "stdout",
          "text": [
            "test.csv  test_submission.csv  train.csv\n"
          ]
        }
      ]
    },
    {
      "cell_type": "code",
      "metadata": {
        "id": "qi0fOX5Z_nZ2"
      },
      "source": [
        "PATH_TO_DATA = \"../content/gdrive/My Drive/raifhack/data\""
      ],
      "execution_count": 5,
      "outputs": []
    },
    {
      "cell_type": "code",
      "metadata": {
        "colab": {
          "base_uri": "https://localhost:8080/",
          "height": 202
        },
        "id": "mQoLAvdL_5FL",
        "outputId": "fda29af0-240e-4c5e-a3d7-fd397e98635a"
      },
      "source": [
        "train_df = pd.read_csv(PATH_TO_DATA+'/train.csv')\n",
        "train_df.tail(2)"
      ],
      "execution_count": 6,
      "outputs": [
        {
          "output_type": "stream",
          "name": "stderr",
          "text": [
            "/usr/local/lib/python3.7/dist-packages/IPython/core/interactiveshell.py:2718: DtypeWarning: Columns (1) have mixed types.Specify dtype option on import or set low_memory=False.\n",
            "  interactivity=interactivity, compiler=compiler, result=result)\n"
          ]
        },
        {
          "output_type": "execute_result",
          "data": {
            "text/html": [
              "<div>\n",
              "<style scoped>\n",
              "    .dataframe tbody tr th:only-of-type {\n",
              "        vertical-align: middle;\n",
              "    }\n",
              "\n",
              "    .dataframe tbody tr th {\n",
              "        vertical-align: top;\n",
              "    }\n",
              "\n",
              "    .dataframe thead th {\n",
              "        text-align: right;\n",
              "    }\n",
              "</style>\n",
              "<table border=\"1\" class=\"dataframe\">\n",
              "  <thead>\n",
              "    <tr style=\"text-align: right;\">\n",
              "      <th></th>\n",
              "      <th>city</th>\n",
              "      <th>floor</th>\n",
              "      <th>id</th>\n",
              "      <th>lat</th>\n",
              "      <th>lng</th>\n",
              "      <th>osm_amenity_points_in_0.001</th>\n",
              "      <th>osm_amenity_points_in_0.005</th>\n",
              "      <th>osm_amenity_points_in_0.0075</th>\n",
              "      <th>osm_amenity_points_in_0.01</th>\n",
              "      <th>osm_building_points_in_0.001</th>\n",
              "      <th>osm_building_points_in_0.005</th>\n",
              "      <th>osm_building_points_in_0.0075</th>\n",
              "      <th>osm_building_points_in_0.01</th>\n",
              "      <th>osm_catering_points_in_0.001</th>\n",
              "      <th>osm_catering_points_in_0.005</th>\n",
              "      <th>osm_catering_points_in_0.0075</th>\n",
              "      <th>osm_catering_points_in_0.01</th>\n",
              "      <th>osm_city_closest_dist</th>\n",
              "      <th>osm_city_nearest_name</th>\n",
              "      <th>osm_city_nearest_population</th>\n",
              "      <th>osm_crossing_closest_dist</th>\n",
              "      <th>osm_crossing_points_in_0.001</th>\n",
              "      <th>osm_crossing_points_in_0.005</th>\n",
              "      <th>osm_crossing_points_in_0.0075</th>\n",
              "      <th>osm_crossing_points_in_0.01</th>\n",
              "      <th>osm_culture_points_in_0.001</th>\n",
              "      <th>osm_culture_points_in_0.005</th>\n",
              "      <th>osm_culture_points_in_0.0075</th>\n",
              "      <th>osm_culture_points_in_0.01</th>\n",
              "      <th>osm_finance_points_in_0.001</th>\n",
              "      <th>osm_finance_points_in_0.005</th>\n",
              "      <th>osm_finance_points_in_0.0075</th>\n",
              "      <th>osm_finance_points_in_0.01</th>\n",
              "      <th>osm_healthcare_points_in_0.005</th>\n",
              "      <th>osm_healthcare_points_in_0.0075</th>\n",
              "      <th>osm_healthcare_points_in_0.01</th>\n",
              "      <th>osm_historic_points_in_0.005</th>\n",
              "      <th>osm_historic_points_in_0.0075</th>\n",
              "      <th>osm_historic_points_in_0.01</th>\n",
              "      <th>osm_hotels_points_in_0.005</th>\n",
              "      <th>osm_hotels_points_in_0.0075</th>\n",
              "      <th>osm_hotels_points_in_0.01</th>\n",
              "      <th>osm_leisure_points_in_0.005</th>\n",
              "      <th>osm_leisure_points_in_0.0075</th>\n",
              "      <th>osm_leisure_points_in_0.01</th>\n",
              "      <th>osm_offices_points_in_0.001</th>\n",
              "      <th>osm_offices_points_in_0.005</th>\n",
              "      <th>osm_offices_points_in_0.0075</th>\n",
              "      <th>osm_offices_points_in_0.01</th>\n",
              "      <th>osm_shops_points_in_0.001</th>\n",
              "      <th>osm_shops_points_in_0.005</th>\n",
              "      <th>osm_shops_points_in_0.0075</th>\n",
              "      <th>osm_shops_points_in_0.01</th>\n",
              "      <th>osm_subway_closest_dist</th>\n",
              "      <th>osm_train_stop_closest_dist</th>\n",
              "      <th>osm_train_stop_points_in_0.005</th>\n",
              "      <th>osm_train_stop_points_in_0.0075</th>\n",
              "      <th>osm_train_stop_points_in_0.01</th>\n",
              "      <th>osm_transport_stop_closest_dist</th>\n",
              "      <th>osm_transport_stop_points_in_0.005</th>\n",
              "      <th>osm_transport_stop_points_in_0.0075</th>\n",
              "      <th>osm_transport_stop_points_in_0.01</th>\n",
              "      <th>per_square_meter_price</th>\n",
              "      <th>reform_count_of_houses_1000</th>\n",
              "      <th>reform_count_of_houses_500</th>\n",
              "      <th>reform_house_population_1000</th>\n",
              "      <th>reform_house_population_500</th>\n",
              "      <th>reform_mean_floor_count_1000</th>\n",
              "      <th>reform_mean_floor_count_500</th>\n",
              "      <th>reform_mean_year_building_1000</th>\n",
              "      <th>reform_mean_year_building_500</th>\n",
              "      <th>region</th>\n",
              "      <th>total_square</th>\n",
              "      <th>street</th>\n",
              "      <th>date</th>\n",
              "      <th>realty_type</th>\n",
              "      <th>price_type</th>\n",
              "    </tr>\n",
              "  </thead>\n",
              "  <tbody>\n",
              "    <tr>\n",
              "      <th>279790</th>\n",
              "      <td>Кемерово</td>\n",
              "      <td>1.0</td>\n",
              "      <td>COL_280529</td>\n",
              "      <td>55.360680</td>\n",
              "      <td>86.081460</td>\n",
              "      <td>5</td>\n",
              "      <td>57</td>\n",
              "      <td>100</td>\n",
              "      <td>134</td>\n",
              "      <td>0</td>\n",
              "      <td>0</td>\n",
              "      <td>0</td>\n",
              "      <td>0</td>\n",
              "      <td>1</td>\n",
              "      <td>16</td>\n",
              "      <td>32</td>\n",
              "      <td>41</td>\n",
              "      <td>0.844577</td>\n",
              "      <td>Кемерово</td>\n",
              "      <td>558662.0</td>\n",
              "      <td>0.341931</td>\n",
              "      <td>0</td>\n",
              "      <td>10</td>\n",
              "      <td>12</td>\n",
              "      <td>20</td>\n",
              "      <td>1</td>\n",
              "      <td>3</td>\n",
              "      <td>5</td>\n",
              "      <td>7</td>\n",
              "      <td>1</td>\n",
              "      <td>4</td>\n",
              "      <td>6</td>\n",
              "      <td>7</td>\n",
              "      <td>1</td>\n",
              "      <td>3</td>\n",
              "      <td>3</td>\n",
              "      <td>1</td>\n",
              "      <td>7</td>\n",
              "      <td>9</td>\n",
              "      <td>0</td>\n",
              "      <td>0</td>\n",
              "      <td>1</td>\n",
              "      <td>1</td>\n",
              "      <td>4</td>\n",
              "      <td>7</td>\n",
              "      <td>0</td>\n",
              "      <td>2</td>\n",
              "      <td>9</td>\n",
              "      <td>12</td>\n",
              "      <td>1</td>\n",
              "      <td>23</td>\n",
              "      <td>32</td>\n",
              "      <td>48</td>\n",
              "      <td>200.109079</td>\n",
              "      <td>2.073608</td>\n",
              "      <td>0</td>\n",
              "      <td>0</td>\n",
              "      <td>0</td>\n",
              "      <td>0.385545</td>\n",
              "      <td>3</td>\n",
              "      <td>14</td>\n",
              "      <td>18</td>\n",
              "      <td>38755.038322</td>\n",
              "      <td>94</td>\n",
              "      <td>24</td>\n",
              "      <td>1649.0</td>\n",
              "      <td>429.0</td>\n",
              "      <td>4.691489</td>\n",
              "      <td>4.125000</td>\n",
              "      <td>1957.425532</td>\n",
              "      <td>1954.625000</td>\n",
              "      <td>Кемеровская область</td>\n",
              "      <td>89.201305</td>\n",
              "      <td>S17667</td>\n",
              "      <td>2020-08-23</td>\n",
              "      <td>110</td>\n",
              "      <td>1</td>\n",
              "    </tr>\n",
              "    <tr>\n",
              "      <th>279791</th>\n",
              "      <td>Киров</td>\n",
              "      <td>1.0</td>\n",
              "      <td>COL_280637</td>\n",
              "      <td>58.592915</td>\n",
              "      <td>49.677439</td>\n",
              "      <td>1</td>\n",
              "      <td>23</td>\n",
              "      <td>64</td>\n",
              "      <td>113</td>\n",
              "      <td>0</td>\n",
              "      <td>0</td>\n",
              "      <td>0</td>\n",
              "      <td>0</td>\n",
              "      <td>0</td>\n",
              "      <td>1</td>\n",
              "      <td>11</td>\n",
              "      <td>25</td>\n",
              "      <td>1.317512</td>\n",
              "      <td>Киров</td>\n",
              "      <td>496986.0</td>\n",
              "      <td>0.126115</td>\n",
              "      <td>0</td>\n",
              "      <td>6</td>\n",
              "      <td>18</td>\n",
              "      <td>48</td>\n",
              "      <td>0</td>\n",
              "      <td>0</td>\n",
              "      <td>0</td>\n",
              "      <td>1</td>\n",
              "      <td>0</td>\n",
              "      <td>6</td>\n",
              "      <td>9</td>\n",
              "      <td>12</td>\n",
              "      <td>3</td>\n",
              "      <td>4</td>\n",
              "      <td>5</td>\n",
              "      <td>0</td>\n",
              "      <td>1</td>\n",
              "      <td>2</td>\n",
              "      <td>1</td>\n",
              "      <td>1</td>\n",
              "      <td>3</td>\n",
              "      <td>1</td>\n",
              "      <td>1</td>\n",
              "      <td>4</td>\n",
              "      <td>0</td>\n",
              "      <td>0</td>\n",
              "      <td>4</td>\n",
              "      <td>7</td>\n",
              "      <td>1</td>\n",
              "      <td>10</td>\n",
              "      <td>37</td>\n",
              "      <td>61</td>\n",
              "      <td>306.460323</td>\n",
              "      <td>1.998461</td>\n",
              "      <td>0</td>\n",
              "      <td>0</td>\n",
              "      <td>0</td>\n",
              "      <td>0.148057</td>\n",
              "      <td>4</td>\n",
              "      <td>12</td>\n",
              "      <td>19</td>\n",
              "      <td>41335.014762</td>\n",
              "      <td>249</td>\n",
              "      <td>79</td>\n",
              "      <td>2735.0</td>\n",
              "      <td>766.0</td>\n",
              "      <td>5.069124</td>\n",
              "      <td>4.776119</td>\n",
              "      <td>1972.599078</td>\n",
              "      <td>1971.794118</td>\n",
              "      <td>Кировская область</td>\n",
              "      <td>172.855871</td>\n",
              "      <td>S5611</td>\n",
              "      <td>2020-08-23</td>\n",
              "      <td>110</td>\n",
              "      <td>1</td>\n",
              "    </tr>\n",
              "  </tbody>\n",
              "</table>\n",
              "</div>"
            ],
            "text/plain": [
              "            city floor          id  ...        date  realty_type  price_type\n",
              "279790  Кемерово   1.0  COL_280529  ...  2020-08-23          110           1\n",
              "279791     Киров   1.0  COL_280637  ...  2020-08-23          110           1\n",
              "\n",
              "[2 rows x 77 columns]"
            ]
          },
          "metadata": {},
          "execution_count": 6
        }
      ]
    },
    {
      "cell_type": "code",
      "metadata": {
        "colab": {
          "base_uri": "https://localhost:8080/"
        },
        "id": "ABMueUpQAMvK",
        "outputId": "1113750c-a221-4a05-db3f-f66916787971"
      },
      "source": [
        "#смотрим размерность данный, 279 ТЫС. СТРОК, 77 СТОЛБЦОВ\n",
        "train_df.shape"
      ],
      "execution_count": 7,
      "outputs": [
        {
          "output_type": "execute_result",
          "data": {
            "text/plain": [
              "(279792, 77)"
            ]
          },
          "metadata": {},
          "execution_count": 7
        }
      ]
    },
    {
      "cell_type": "code",
      "metadata": {
        "colab": {
          "base_uri": "https://localhost:8080/"
        },
        "id": "JZhpjS4-AdF2",
        "outputId": "7ec0f9a7-c674-4d52-cb7e-3569cf6901bf"
      },
      "source": [
        "#смотрим названия колонок\n",
        "train_df.columns"
      ],
      "execution_count": 8,
      "outputs": [
        {
          "output_type": "execute_result",
          "data": {
            "text/plain": [
              "Index(['city', 'floor', 'id', 'lat', 'lng', 'osm_amenity_points_in_0.001',\n",
              "       'osm_amenity_points_in_0.005', 'osm_amenity_points_in_0.0075',\n",
              "       'osm_amenity_points_in_0.01', 'osm_building_points_in_0.001',\n",
              "       'osm_building_points_in_0.005', 'osm_building_points_in_0.0075',\n",
              "       'osm_building_points_in_0.01', 'osm_catering_points_in_0.001',\n",
              "       'osm_catering_points_in_0.005', 'osm_catering_points_in_0.0075',\n",
              "       'osm_catering_points_in_0.01', 'osm_city_closest_dist',\n",
              "       'osm_city_nearest_name', 'osm_city_nearest_population',\n",
              "       'osm_crossing_closest_dist', 'osm_crossing_points_in_0.001',\n",
              "       'osm_crossing_points_in_0.005', 'osm_crossing_points_in_0.0075',\n",
              "       'osm_crossing_points_in_0.01', 'osm_culture_points_in_0.001',\n",
              "       'osm_culture_points_in_0.005', 'osm_culture_points_in_0.0075',\n",
              "       'osm_culture_points_in_0.01', 'osm_finance_points_in_0.001',\n",
              "       'osm_finance_points_in_0.005', 'osm_finance_points_in_0.0075',\n",
              "       'osm_finance_points_in_0.01', 'osm_healthcare_points_in_0.005',\n",
              "       'osm_healthcare_points_in_0.0075', 'osm_healthcare_points_in_0.01',\n",
              "       'osm_historic_points_in_0.005', 'osm_historic_points_in_0.0075',\n",
              "       'osm_historic_points_in_0.01', 'osm_hotels_points_in_0.005',\n",
              "       'osm_hotels_points_in_0.0075', 'osm_hotels_points_in_0.01',\n",
              "       'osm_leisure_points_in_0.005', 'osm_leisure_points_in_0.0075',\n",
              "       'osm_leisure_points_in_0.01', 'osm_offices_points_in_0.001',\n",
              "       'osm_offices_points_in_0.005', 'osm_offices_points_in_0.0075',\n",
              "       'osm_offices_points_in_0.01', 'osm_shops_points_in_0.001',\n",
              "       'osm_shops_points_in_0.005', 'osm_shops_points_in_0.0075',\n",
              "       'osm_shops_points_in_0.01', 'osm_subway_closest_dist',\n",
              "       'osm_train_stop_closest_dist', 'osm_train_stop_points_in_0.005',\n",
              "       'osm_train_stop_points_in_0.0075', 'osm_train_stop_points_in_0.01',\n",
              "       'osm_transport_stop_closest_dist', 'osm_transport_stop_points_in_0.005',\n",
              "       'osm_transport_stop_points_in_0.0075',\n",
              "       'osm_transport_stop_points_in_0.01', 'per_square_meter_price',\n",
              "       'reform_count_of_houses_1000', 'reform_count_of_houses_500',\n",
              "       'reform_house_population_1000', 'reform_house_population_500',\n",
              "       'reform_mean_floor_count_1000', 'reform_mean_floor_count_500',\n",
              "       'reform_mean_year_building_1000', 'reform_mean_year_building_500',\n",
              "       'region', 'total_square', 'street', 'date', 'realty_type',\n",
              "       'price_type'],\n",
              "      dtype='object')"
            ]
          },
          "metadata": {},
          "execution_count": 8
        }
      ]
    },
    {
      "cell_type": "code",
      "metadata": {
        "id": "cURH5MwXA1Q1"
      },
      "source": [
        "import matplotlib.pyplot as plt\n",
        "import scipy\n",
        "import math\n",
        "from sklearn.linear_model import LogisticRegression\n",
        "from sklearn.preprocessing import StandardScaler\n",
        "from sklearn.linear_model import LinearRegression\n",
        "from sklearn.model_selection import train_test_split\n",
        "from sklearn import metrics as m\n",
        "from sklearn.metrics import roc_auc_score, roc_curve"
      ],
      "execution_count": 9,
      "outputs": []
    },
    {
      "cell_type": "code",
      "metadata": {
        "colab": {
          "base_uri": "https://localhost:8080/",
          "height": 282
        },
        "id": "6THYHiH2DRrG",
        "outputId": "b81cefa5-e8a8-4e05-b2d7-d7d9f6b8847e"
      },
      "source": [
        "train_df.reform_count_of_houses_1000.hist()"
      ],
      "execution_count": 14,
      "outputs": [
        {
          "output_type": "execute_result",
          "data": {
            "text/plain": [
              "<matplotlib.axes._subplots.AxesSubplot at 0x7fec63615510>"
            ]
          },
          "metadata": {},
          "execution_count": 14
        },
        {
          "output_type": "display_data",
          "data": {
            "image/png": "[encoded data removed]",
            "text/plain": [
              "<Figure size 432x288 with 1 Axes>"
            ]
          },
          "metadata": {
            "needs_background": "light"
          }
        }
      ]
    },
    {
      "cell_type": "code",
      "metadata": {
        "colab": {
          "base_uri": "https://localhost:8080/",
          "height": 265
        },
        "id": "Yk1JX46ODo7v",
        "outputId": "599cb07d-c819-4c3b-a9b7-afde185edade"
      },
      "source": [
        "#оценка порядковой статистики и ее представление в виде \"ящика с усами\"\n",
        "plt.boxplot(train_df.reform_count_of_houses_1000)\n",
        "plt.savefig('boxplot_reform_1000.png')"
      ],
      "execution_count": 17,
      "outputs": [
        {
          "output_type": "display_data",
          "data": {
            "image/png": "[encoded data removed]",
            "text/plain": [
              "<Figure size 432x288 with 1 Axes>"
            ]
          },
          "metadata": {
            "needs_background": "light"
          }
        }
      ]
    },
    {
      "cell_type": "code",
      "metadata": {
        "colab": {
          "base_uri": "https://localhost:8080/"
        },
        "id": "Fgkn87_bDpNG",
        "outputId": "4fb17589-1c78-4137-8ae3-6028cdb9460d"
      },
      "source": [
        "!ls\n"
      ],
      "execution_count": 18,
      "outputs": [
        {
          "output_type": "stream",
          "name": "stdout",
          "text": [
            "boxplot_reform_1000.png  gdrive  sample_data\n"
          ]
        }
      ]
    },
    {
      "cell_type": "code",
      "metadata": {
        "colab": {
          "base_uri": "https://localhost:8080/"
        },
        "id": "lv8JbCtCHAXf",
        "outputId": "eb058e36-bf98-44c5-ff4f-52a9347cccd6"
      },
      "source": [
        "#порядковые статистики мин, макс, медиана\n",
        "train_df.reform_count_of_houses_1000.min()"
      ],
      "execution_count": 22,
      "outputs": [
        {
          "output_type": "execute_result",
          "data": {
            "text/plain": [
              "0"
            ]
          },
          "metadata": {},
          "execution_count": 22
        }
      ]
    },
    {
      "cell_type": "code",
      "metadata": {
        "colab": {
          "base_uri": "https://localhost:8080/"
        },
        "id": "nVwO5wysHRUc",
        "outputId": "2d36cf75-9da6-4656-f85b-b67eb32c5c0a"
      },
      "source": [
        "train_df.reform_count_of_houses_1000.max()"
      ],
      "execution_count": 23,
      "outputs": [
        {
          "output_type": "execute_result",
          "data": {
            "text/plain": [
              "733"
            ]
          },
          "metadata": {},
          "execution_count": 23
        }
      ]
    },
    {
      "cell_type": "code",
      "metadata": {
        "id": "j5bMU8_bHNgc"
      },
      "source": [
        ""
      ],
      "execution_count": null,
      "outputs": []
    },
    {
      "cell_type": "code",
      "metadata": {
        "colab": {
          "base_uri": "https://localhost:8080/"
        },
        "id": "y0sbxJyBHAr2",
        "outputId": "2359ead3-f605-4447-f5da-0196de5f3aca"
      },
      "source": [
        "train_df.reform_count_of_houses_1000.median()"
      ],
      "execution_count": 24,
      "outputs": [
        {
          "output_type": "execute_result",
          "data": {
            "text/plain": [
              "86.0"
            ]
          },
          "metadata": {},
          "execution_count": 24
        }
      ]
    },
    {
      "cell_type": "code",
      "metadata": {
        "colab": {
          "base_uri": "https://localhost:8080/",
          "height": 282
        },
        "id": "DI7UIdLdHA5E",
        "outputId": "61e1601e-786f-432d-a849-4bbee461dcfd"
      },
      "source": [
        "train_df['osm_healthcare_points_in_0.0075'].hist()"
      ],
      "execution_count": 25,
      "outputs": [
        {
          "output_type": "execute_result",
          "data": {
            "text/plain": [
              "<matplotlib.axes._subplots.AxesSubplot at 0x7fec62f924d0>"
            ]
          },
          "metadata": {},
          "execution_count": 25
        },
        {
          "output_type": "display_data",
          "data": {
            "image/png": "[encoded data removed]",
            "text/plain": [
              "<Figure size 432x288 with 1 Axes>"
            ]
          },
          "metadata": {
            "needs_background": "light"
          }
        }
      ]
    },
    {
      "cell_type": "code",
      "metadata": {
        "colab": {
          "base_uri": "https://localhost:8080/",
          "height": 265
        },
        "id": "7T4Ppw6NIwyN",
        "outputId": "48ec3f5b-de45-4ca1-ab58-f9f134f2f733"
      },
      "source": [
        "#оценка порядковой статистики и ее представление в виде \"ящика с усами\"\n",
        "plt.boxplot(train_df['osm_healthcare_points_in_0.0075'])\n",
        "plt.savefig('boxplot_healthcare_point_075.png')"
      ],
      "execution_count": 27,
      "outputs": [
        {
          "output_type": "display_data",
          "data": {
            "image/png": "[encoded data removed]",
            "text/plain": [
              "<Figure size 432x288 with 1 Axes>"
            ]
          },
          "metadata": {
            "needs_background": "light"
          }
        }
      ]
    },
    {
      "cell_type": "code",
      "metadata": {
        "colab": {
          "base_uri": "https://localhost:8080/"
        },
        "id": "I0TVGWdTL7u-",
        "outputId": "ed168a5d-7763-4a0a-9818-80dc7a05ab92"
      },
      "source": [
        "#порядковые статистики мин, макс, медиана\n",
        "print(train_df['osm_healthcare_points_in_0.0075'].min(),\n",
        "      train_df['osm_healthcare_points_in_0.0075'].median(),\n",
        "      train_df['osm_healthcare_points_in_0.0075'].max())"
      ],
      "execution_count": 29,
      "outputs": [
        {
          "output_type": "stream",
          "name": "stdout",
          "text": [
            "0 2.0 56\n"
          ]
        }
      ]
    },
    {
      "cell_type": "code",
      "metadata": {
        "colab": {
          "base_uri": "https://localhost:8080/",
          "height": 282
        },
        "id": "_poFiL86L8Ax",
        "outputId": "da9c373e-1041-49fd-cb85-f87c0f411062"
      },
      "source": [
        "train_df['osm_hotels_points_in_0.0075'].hist()"
      ],
      "execution_count": 30,
      "outputs": [
        {
          "output_type": "execute_result",
          "data": {
            "text/plain": [
              "<matplotlib.axes._subplots.AxesSubplot at 0x7fec5e5dab90>"
            ]
          },
          "metadata": {},
          "execution_count": 30
        },
        {
          "output_type": "display_data",
          "data": {
            "image/png": "[encoded data removed]",
            "text/plain": [
              "<Figure size 432x288 with 1 Axes>"
            ]
          },
          "metadata": {
            "needs_background": "light"
          }
        }
      ]
    },
    {
      "cell_type": "code",
      "metadata": {
        "colab": {
          "base_uri": "https://localhost:8080/",
          "height": 265
        },
        "id": "TO2hJdHXM9k3",
        "outputId": "d92e4751-fc66-4e12-ed1f-9060e1492559"
      },
      "source": [
        "#оценка порядковой статистики и ее представление в виде \"ящика с усами\"\n",
        "plt.boxplot(train_df['osm_hotels_points_in_0.0075'])\n",
        "plt.savefig('boxplot_hotels.png')"
      ],
      "execution_count": 31,
      "outputs": [
        {
          "output_type": "display_data",
          "data": {
            "image/png": "[encoded data removed]",
            "text/plain": [
              "<Figure size 432x288 with 1 Axes>"
            ]
          },
          "metadata": {
            "needs_background": "light"
          }
        }
      ]
    },
    {
      "cell_type": "code",
      "metadata": {
        "colab": {
          "base_uri": "https://localhost:8080/"
        },
        "id": "nDvFa_C2L8PM",
        "outputId": "300d41d4-fd70-4ec4-b5fb-3f9d7a67162c"
      },
      "source": [
        "#порядковые статистики мин, макс, медиана\n",
        "print(train_df['osm_hotels_points_in_0.0075'].min(),\n",
        "      train_df['osm_hotels_points_in_0.0075'].median(),\n",
        "      train_df['osm_hotels_points_in_0.0075'].max())"
      ],
      "execution_count": 33,
      "outputs": [
        {
          "output_type": "stream",
          "name": "stdout",
          "text": [
            "0 0.0 113\n"
          ]
        }
      ]
    },
    {
      "cell_type": "code",
      "metadata": {
        "colab": {
          "base_uri": "https://localhost:8080/",
          "height": 17
        },
        "id": "eJTM8BSk9O3Y",
        "outputId": "5a5a26c2-ec48-46b8-e560-6679d52ef08c"
      },
      "source": [
        "from google.colab import files\n",
        "\n",
        "files.download('boxplot_hotels.png')"
      ],
      "execution_count": 32,
      "outputs": [
        {
          "output_type": "display_data",
          "data": {
            "application/javascript": [
              "\n",
              "    async function download(id, filename, size) {\n",
              "      if (!google.colab.kernel.accessAllowed) {\n",
              "        return;\n",
              "      }\n",
              "      const div = document.createElement('div');\n",
              "      const label = document.createElement('label');\n",
              "      label.textContent = `Downloading \"${filename}\": `;\n",
              "      div.appendChild(label);\n",
              "      const progress = document.createElement('progress');\n",
              "      progress.max = size;\n",
              "      div.appendChild(progress);\n",
              "      document.body.appendChild(div);\n",
              "\n",
              "      const buffers = [];\n",
              "      let downloaded = 0;\n",
              "\n",
              "      const channel = await google.colab.kernel.comms.open(id);\n",
              "      // Send a message to notify the kernel that we're ready.\n",
              "      channel.send({})\n",
              "\n",
              "      for await (const message of channel.messages) {\n",
              "        // Send a message to notify the kernel that we're ready.\n",
              "        channel.send({})\n",
              "        if (message.buffers) {\n",
              "          for (const buffer of message.buffers) {\n",
              "            buffers.push(buffer);\n",
              "            downloaded += buffer.byteLength;\n",
              "            progress.value = downloaded;\n",
              "          }\n",
              "        }\n",
              "      }\n",
              "      const blob = new Blob(buffers, {type: 'application/binary'});\n",
              "      const a = document.createElement('a');\n",
              "      a.href = window.URL.createObjectURL(blob);\n",
              "      a.download = filename;\n",
              "      div.appendChild(a);\n",
              "      a.click();\n",
              "      div.remove();\n",
              "    }\n",
              "  "
            ],
            "text/plain": [
              "<IPython.core.display.Javascript object>"
            ]
          },
          "metadata": {}
        },
        {
          "output_type": "display_data",
          "data": {
            "application/javascript": [
              "download(\"download_dbee8b83-b423-47d1-ae4a-45045324cda0\", \"boxplot_hotels.png\", 4269)"
            ],
            "text/plain": [
              "<IPython.core.display.Javascript object>"
            ]
          },
          "metadata": {}
        }
      ]
    },
    {
      "cell_type": "code",
      "metadata": {
        "id": "V3ruqEou9PJE"
      },
      "source": [
        ""
      ],
      "execution_count": null,
      "outputs": []
    }
  ]
}